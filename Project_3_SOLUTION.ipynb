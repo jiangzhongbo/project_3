{
  "nbformat": 4,
  "nbformat_minor": 0,
  "metadata": {
    "colab": {
      "name": "Project 3_SOLUTION.ipynb",
      "provenance": [],
      "collapsed_sections": [],
      "include_colab_link": true
    },
    "kernelspec": {
      "name": "python3",
      "display_name": "Python 3"
    },
    "language_info": {
      "codemirror_mode": {
        "name": "ipython",
        "version": 3
      },
      "file_extension": ".py",
      "mimetype": "text/x-python",
      "name": "python",
      "nbconvert_exporter": "python",
      "pygments_lexer": "ipython3",
      "version": "3.5.2"
    },
    "accelerator": "GPU"
  },
  "cells": [
    {
      "cell_type": "markdown",
      "metadata": {
        "id": "view-in-github",
        "colab_type": "text"
      },
      "source": [
        "<a href=\"https://colab.research.google.com/github/kassymkhan0101/project_3/blob/master/Project_3_SOLUTION.ipynb\" target=\"_parent\"><img src=\"https://colab.research.google.com/assets/colab-badge.svg\" alt=\"Open In Colab\"/></a>"
      ]
    },
    {
      "cell_type": "markdown",
      "metadata": {
        "id": "-1FdPwBcxQS1",
        "colab_type": "text"
      },
      "source": [
        "#The application of Convolutional Neural Network to facial emotion recognition.\n",
        "##Written by Kassymkhan Tengel.\n"
      ]
    },
    {
      "cell_type": "markdown",
      "metadata": {
        "id": "14coMADdzbr7",
        "colab_type": "text"
      },
      "source": [
        "##Introduction\n",
        "\n",
        "The aim of this project is to use a neural network to find out the facial emotion of a person by photo. We concentrate only on 3 emotions: joy, sadness and neutral facial expression. To train, we used about 2000 animated photos, and to validate we used about 1000 photos. However we could not achieve the desired accuracy, we created a sustainable model that is able to recognize basic emotions. Moreover, we used tilting of an image, rotating it, etc. to avoid overfitting and to find best accuracy used different values for steps per epoch, and different rotational values in image generation, etc."
      ]
    },
    {
      "cell_type": "markdown",
      "metadata": {
        "id": "b7ERDYSyLOiX",
        "colab_type": "text"
      },
      "source": [
        "#Related Work\n",
        "\n",
        "Before starting our project, we read several articles. One day, we stop by article written by Abhijeet Kumar. He named his article as “Demonstration of Facial Emotion Recognition on Real Time Video Using CNN: Python & Keras”. His task was to recognise different emotions of people and classify them. To do so, he used the dataset available on kaggle. In his dataset there were seven different emotions such as 0=Angry, 1=Disgust, 2=Fear, 3=Happy, 4=Sad, 5=Surprise, 6=Neutral. Each image in his dataset had size 48x48 and contained face focused in the centre. The algorithm/model he used can be seen in the figure below. Similarly, we have the almost similar model. Several convolutions, MaxPoolings and ending up with softmax activation. He runned his code by using keras as we did. While testing on real images, his model gave neutral results when face did not express significant emotions.\n",
        "\n",
        "\n",
        "![alt text](https://i0.wp.com/appliedmachinelearning.blog/wp-content/uploads/2018/11/mini_exception_cnn_model.png?zoom=1.25&resize=489%2C686&ssl=1)\n",
        "[1]"
      ]
    },
    {
      "cell_type": "markdown",
      "metadata": {
        "id": "bgNpJDfo1f0W",
        "colab_type": "text"
      },
      "source": [
        "## Data\n",
        "\n",
        "To begin we gained access to a database consisting of animated pictures of 6 different emotions(only 3 were used). All the pictures were generated such that they correspond to 7 different characters. The dataset was too big to use since colab is slow even on GPU. Therefore, we randomly chose photos to decrease the number of photos for training and validation. Moreover, we used 5 characters' pictures to train and the other 2 characters' pictures to validate. As further research showed, since generated pictures were similar and animated, model experience difficulties in reading emotions from real human photos. This can be explained by the fact that different emotions can be read from the same photo. As an example, we tried to check what emotion would be read by the model from a picture with a afraid facial expression. As we’ve expected, an afraid person can be recognized as a sad person(since their mouths are open but they are not smiling, etc. )\n"
      ]
    },
    {
      "cell_type": "markdown",
      "metadata": {
        "id": "JFvjU4GiLkG1",
        "colab_type": "text"
      },
      "source": [
        "#Methods\n",
        "\n",
        "First of all, we imported the dataset from Google drive. Then, divided it into 2 parts: training and validation. Each part contained images of 3 classes (emotions): joy, neutral and sad. The next step was the construction of the model by using the Keras of TensorFlow. In construction of the model, we gave a shape of 256x256 (since each image in our dataset has 256x256 shape) to input data. Our model has 11 layers. The first four odd-numbered layers were Conv2D layers followed by even-numbered MaxPooling2D layers. Convolution layers have ReLu activation functions. Because ReLu helps to train faster without significant changes to the accuracy. Also this magic activation functions handles the gradient problem, where in different cases gradient decreases exponentially.\n",
        "After Convolutions and MaxPoolings, our model ends up with Flatten and Dense layers. The last layer uses the softmax activation. Because, it is a rule to use softmax in the last layer. It helps us convert our results from previous layers into numbers that humans understand. The next reason is when our model is multi-class we use softmax.\n",
        "After constructing a model, we compile it with following properties: loss='categorical_crossentropy',\n",
        "optimizer=RMSprop(lr=1e-4) and   metrics=['acc'] where lr- is a learning rate and acc is an accuracy.\n"
      ]
    },
    {
      "cell_type": "markdown",
      "metadata": {
        "id": "A-MUwAqSGisF",
        "colab_type": "text"
      },
      "source": [
        "###Downloading dataset and Creating a model"
      ]
    },
    {
      "cell_type": "code",
      "metadata": {
        "colab_type": "code",
        "id": "MJPyDEzOqrKB",
        "colab": {}
      },
      "source": [
        "from google.colab import drive\n",
        "drive.mount('/content/drive')\n",
        "  \n",
        "import os\n",
        "import tensorflow as tf\n",
        "from tensorflow.keras.optimizers import RMSprop\n",
        "from tensorflow.keras.preprocessing.image import ImageDataGenerator\n",
        "\n",
        "  \n",
        "\n",
        "base_dir = '/content/drive/My Drive/Datasett'\n",
        "train_dir = os.path.join(base_dir, 'train')\n",
        "validation_dir = os.path.join(base_dir, 'validation')\n",
        "\n",
        "sad=os.path.join(train_dir,'sad')\n",
        "joy=os.path.join(train_dir,'joy')\n",
        "neutral=os.path.join(train_dir,'neutral')\n",
        "\n",
        "\n",
        "val_sad=os.path.join(validation_dir,'sad')\n",
        "val_joy=os.path.join(validation_dir,'joy')\n",
        "val_neutral=os.path.join(validation_dir,'neutral')\n",
        "\n",
        "model = tf.keras.models.Sequential([\n",
        "    tf.keras.layers.Conv2D(32, (3,3), activation='relu', input_shape=(256, 256, 3)),\n",
        "    tf.keras.layers.MaxPooling2D(2, 2),\n",
        "    tf.keras.layers.Conv2D(64, (3,3), activation='relu'),\n",
        "    tf.keras.layers.MaxPooling2D(2,2),\n",
        "    tf.keras.layers.Conv2D(128, (3,3), activation='relu'),\n",
        "    tf.keras.layers.MaxPooling2D(2,2),\n",
        "    tf.keras.layers.Conv2D(128, (3,3), activation='relu'),\n",
        "    tf.keras.layers.MaxPooling2D(2,2),\n",
        "    tf.keras.layers.Flatten(),\n",
        "    tf.keras.layers.Dense(512, activation='relu'),\n",
        "    tf.keras.layers.Dense(3, activation='softmax')\n",
        "])\n",
        "\n",
        "model.compile(loss='categorical_crossentropy',\n",
        "              optimizer=RMSprop(lr=1e-4),\n",
        "              metrics=['acc'])\n",
        "\n",
        "train_datagen = ImageDataGenerator(rescale=1./255)\n",
        "test_datagen = ImageDataGenerator(rescale=1./255)\n",
        "\n",
        "train_generator = train_datagen.flow_from_directory(\n",
        "        train_dir, \n",
        "        target_size=(256, 256),  \n",
        "        batch_size=20,\n",
        "        class_mode='categorical')\n",
        "\n",
        "validation_generator = test_datagen.flow_from_directory(\n",
        "        validation_dir,\n",
        "        target_size=(256,256),\n",
        "        batch_size=20,\n",
        "        class_mode='categorical')\n",
        "\n",
        "history = model.fit_generator(\n",
        "      train_generator,\n",
        "      steps_per_epoch=105, \n",
        "      epochs=15,\n",
        "      validation_data=validation_generator,\n",
        "      validation_steps=46, \n",
        "      verbose=1)\n",
        "\n"
      ],
      "execution_count": 0,
      "outputs": []
    },
    {
      "cell_type": "markdown",
      "metadata": {
        "id": "_JX9aVRWGuUA",
        "colab_type": "text"
      },
      "source": [
        "It is noticable that we faced overfitting since we have 1.00 accuracy for training. To see how our model behaving we can plot accuracy of both training and validation."
      ]
    },
    {
      "cell_type": "code",
      "metadata": {
        "colab_type": "code",
        "id": "GZWPcmKWO303",
        "outputId": "97189409-09df-4820-99c9-aecc3583ba3a",
        "colab": {
          "base_uri": "https://localhost:8080/",
          "height": 545
        }
      },
      "source": [
        "import matplotlib.pyplot as plt\n",
        "acc = history.history['acc']\n",
        "val_acc = history.history['val_acc']\n",
        "loss = history.history['loss']\n",
        "val_loss = history.history['val_loss']\n",
        "\n",
        "epochs = range(len(acc))\n",
        "\n",
        "plt.plot(epochs, acc, 'bo', label='Training accuracy')\n",
        "plt.plot(epochs, val_acc, 'b', label='Validation accuracy')\n",
        "plt.title('Training and validation accuracy')\n",
        "\n",
        "plt.figure()\n",
        "\n",
        "plt.plot(epochs, loss, 'bo', label='Training Loss')\n",
        "plt.plot(epochs, val_loss, 'b', label='Validation Loss')\n",
        "plt.title('Training and validation loss')\n",
        "plt.legend()\n",
        "\n",
        "plt.show()"
      ],
      "execution_count": 0,
      "outputs": [
        {
          "output_type": "display_data",
          "data": {
            "image/png": "[encoded data removed]",
            "text/plain": [
              "<Figure size 432x288 with 1 Axes>"
            ]
          },
          "metadata": {
            "tags": []
          }
        },
        {
          "output_type": "display_data",
          "data": {
            "image/png": "[encoded data removed]",
            "text/plain": [
              "<Figure size 432x288 with 1 Axes>"
            ]
          },
          "metadata": {
            "tags": []
          }
        }
      ]
    },
    {
      "cell_type": "markdown",
      "metadata": {
        "id": "mVhABmZ0IewW",
        "colab_type": "text"
      },
      "source": [
        "To avoid overfitting we tried to tilt and rotate training data a bit. This way we got rid of overfitting, but on the other hand validation accuracy also decreased."
      ]
    },
    {
      "cell_type": "code",
      "metadata": {
        "colab_type": "code",
        "id": "UK7_Fflgv8YC",
        "outputId": "0482cbf8-72b9-4fc7-ba02-ee5ea43a2f0c",
        "colab": {
          "base_uri": "https://localhost:8080/",
          "height": 1000
        }
      },
      "source": [
        "\n",
        "  \n",
        "import os\n",
        "import tensorflow as tf\n",
        "from tensorflow.keras.optimizers import RMSprop\n",
        "from tensorflow.keras.preprocessing.image import ImageDataGenerator\n",
        "\n",
        "\n",
        "\n",
        "base_dir = '/content/drive/My Drive/Datasett'\n",
        "train_dir = os.path.join(base_dir, 'train')\n",
        "validation_dir = os.path.join(base_dir, 'validation')\n",
        "\n",
        "sad=os.path.join(train_dir,'sad')\n",
        "joy=os.path.join(train_dir,'joy')\n",
        "neutral=os.path.join(train_dir,'neutral')\n",
        "\n",
        "\n",
        "val_sad=os.path.join(validation_dir,'sad')\n",
        "val_joy=os.path.join(validation_dir,'joy')\n",
        "val_neutral=os.path.join(validation_dir,'neutral')\n",
        "\n",
        "model = tf.keras.models.Sequential([\n",
        "    tf.keras.layers.Conv2D(32, (3,3), activation='relu', input_shape=(256, 256, 3)),\n",
        "    tf.keras.layers.MaxPooling2D(2, 2),\n",
        "    tf.keras.layers.Conv2D(64, (3,3), activation='relu'),\n",
        "    tf.keras.layers.MaxPooling2D(2,2),\n",
        "    tf.keras.layers.Conv2D(128, (3,3), activation='relu'),\n",
        "    tf.keras.layers.MaxPooling2D(2,2),\n",
        "    tf.keras.layers.Conv2D(128, (3,3), activation='relu'),\n",
        "    tf.keras.layers.MaxPooling2D(2,2),\n",
        "    tf.keras.layers.Flatten(),\n",
        "    tf.keras.layers.Dense(512, activation='relu'),\n",
        "    tf.keras.layers.Dense(3, activation='softmax')\n",
        "])\n",
        "\n",
        "model.compile(loss='categorical_crossentropy',\n",
        "              optimizer=RMSprop(lr=1e-4),\n",
        "              metrics=['acc'])\n",
        "\n",
        "\n",
        "train_datagen = ImageDataGenerator(\n",
        "      rescale=1./255,\n",
        "      rotation_range=40,\n",
        "      width_shift_range=0.2,\n",
        "      height_shift_range=0.2,\n",
        "      shear_range=0.2,\n",
        "      zoom_range=0.2,\n",
        "      horizontal_flip=True,\n",
        "      fill_mode='nearest')\n",
        "\n",
        "test_datagen = ImageDataGenerator(rescale=1./255)\n",
        "\n",
        "train_generator = train_datagen.flow_from_directory(\n",
        "        train_dir,  \n",
        "        target_size=(256, 256),\n",
        "        batch_size=20,\n",
        "        class_mode='categorical')\n",
        "\n",
        "validation_generator = test_datagen.flow_from_directory(\n",
        "        validation_dir,\n",
        "        target_size=(256, 256),\n",
        "        batch_size=40,\n",
        "        class_mode='categorical')\n",
        "\n",
        "history = model.fit_generator(\n",
        "      train_generator,\n",
        "      steps_per_epoch=50, \n",
        "      epochs=25,\n",
        "      validation_data=validation_generator,\n",
        "      validation_steps=46, \n",
        "      verbose=1)"
      ],
      "execution_count": 0,
      "outputs": [
        {
          "output_type": "stream",
          "text": [
            "Found 2116 images belonging to 3 classes.\n",
            "Found 923 images belonging to 3 classes.\n",
            "Epoch 1/25\n",
            "49/50 [============================>.] - ETA: 0s - loss: 1.1043 - acc: 0.3408Epoch 1/25\n",
            "50/50 [==============================] - 31s 617ms/step - loss: 1.1041 - acc: 0.3410 - val_loss: 1.1048 - val_acc: 0.3039\n",
            "Epoch 2/25\n",
            "49/50 [============================>.] - ETA: 0s - loss: 1.0979 - acc: 0.3586Epoch 1/25\n",
            "50/50 [==============================] - 26s 512ms/step - loss: 1.0981 - acc: 0.3564 - val_loss: 1.0920 - val_acc: 0.3034\n",
            "Epoch 3/25\n",
            "49/50 [============================>.] - ETA: 0s - loss: 1.0855 - acc: 0.3959Epoch 1/25\n",
            "50/50 [==============================] - 29s 573ms/step - loss: 1.0842 - acc: 0.4010 - val_loss: 1.0963 - val_acc: 0.3023\n",
            "Epoch 4/25\n",
            "49/50 [============================>.] - ETA: 0s - loss: 1.0717 - acc: 0.4139Epoch 1/25\n",
            "50/50 [==============================] - 27s 531ms/step - loss: 1.0719 - acc: 0.4157 - val_loss: 1.0356 - val_acc: 0.5241\n",
            "Epoch 5/25\n",
            "49/50 [============================>.] - ETA: 0s - loss: 1.0582 - acc: 0.4296Epoch 1/25\n",
            "50/50 [==============================] - 26s 529ms/step - loss: 1.0579 - acc: 0.4280 - val_loss: 1.0248 - val_acc: 0.4309\n",
            "Epoch 6/25\n",
            "49/50 [============================>.] - ETA: 0s - loss: 1.0441 - acc: 0.4611Epoch 1/25\n",
            "50/50 [==============================] - 26s 526ms/step - loss: 1.0434 - acc: 0.4608 - val_loss: 1.0620 - val_acc: 0.3622\n",
            "Epoch 7/25\n",
            "49/50 [============================>.] - ETA: 0s - loss: 1.0103 - acc: 0.4949Epoch 1/25\n",
            "50/50 [==============================] - 26s 524ms/step - loss: 1.0103 - acc: 0.4940 - val_loss: 1.0259 - val_acc: 0.4215\n",
            "Epoch 8/25\n",
            "49/50 [============================>.] - ETA: 0s - loss: 0.9709 - acc: 0.5092Epoch 1/25\n",
            "50/50 [==============================] - 26s 530ms/step - loss: 0.9715 - acc: 0.5100 - val_loss: 1.1512 - val_acc: 0.3611\n",
            "Epoch 9/25\n",
            "49/50 [============================>.] - ETA: 0s - loss: 0.9670 - acc: 0.5378Epoch 1/25\n",
            "50/50 [==============================] - 26s 520ms/step - loss: 0.9662 - acc: 0.5390 - val_loss: 1.2630 - val_acc: 0.3605\n",
            "Epoch 10/25\n",
            "49/50 [============================>.] - ETA: 0s - loss: 0.9272 - acc: 0.5533Epoch 1/25\n",
            "50/50 [==============================] - 26s 526ms/step - loss: 0.9274 - acc: 0.5522 - val_loss: 1.2822 - val_acc: 0.4348\n",
            "Epoch 11/25\n",
            "49/50 [============================>.] - ETA: 0s - loss: 0.8761 - acc: 0.6153Epoch 1/25\n",
            "50/50 [==============================] - 26s 525ms/step - loss: 0.8767 - acc: 0.6150 - val_loss: 1.3575 - val_acc: 0.3982\n",
            "Epoch 12/25\n",
            "49/50 [============================>.] - ETA: 0s - loss: 0.8321 - acc: 0.6373Epoch 1/25\n",
            "50/50 [==============================] - 26s 520ms/step - loss: 0.8315 - acc: 0.6396 - val_loss: 1.5055 - val_acc: 0.4975\n",
            "Epoch 13/25\n",
            "49/50 [============================>.] - ETA: 0s - loss: 0.7739 - acc: 0.6650Epoch 1/25\n",
            "50/50 [==============================] - 26s 516ms/step - loss: 0.7755 - acc: 0.6616 - val_loss: 2.7852 - val_acc: 0.3533\n",
            "Epoch 14/25\n",
            "49/50 [============================>.] - ETA: 0s - loss: 0.7592 - acc: 0.6796Epoch 1/25\n",
            "50/50 [==============================] - 26s 524ms/step - loss: 0.7549 - acc: 0.6810 - val_loss: 1.9879 - val_acc: 0.3738\n",
            "Epoch 15/25\n",
            "49/50 [============================>.] - ETA: 0s - loss: 0.7379 - acc: 0.6959Epoch 1/25\n",
            "50/50 [==============================] - 26s 518ms/step - loss: 0.7431 - acc: 0.6930 - val_loss: 1.6686 - val_acc: 0.3866\n",
            "Epoch 16/25\n",
            "49/50 [============================>.] - ETA: 0s - loss: 0.6881 - acc: 0.7092Epoch 1/25\n",
            "50/50 [==============================] - 26s 522ms/step - loss: 0.6847 - acc: 0.7120 - val_loss: 2.1677 - val_acc: 0.3677\n",
            "Epoch 17/25\n",
            "49/50 [============================>.] - ETA: 0s - loss: 0.6655 - acc: 0.7480Epoch 1/25\n",
            "50/50 [==============================] - 26s 518ms/step - loss: 0.6625 - acc: 0.7500 - val_loss: 1.5683 - val_acc: 0.5042\n",
            "Epoch 18/25\n",
            "49/50 [============================>.] - ETA: 0s - loss: 0.5915 - acc: 0.7765Epoch 1/25\n",
            "50/50 [==============================] - 26s 525ms/step - loss: 0.5967 - acc: 0.7740 - val_loss: 0.9031 - val_acc: 0.6778\n",
            "Epoch 19/25\n",
            "49/50 [============================>.] - ETA: 0s - loss: 0.6250 - acc: 0.7664Epoch 1/25\n",
            "50/50 [==============================] - 24s 489ms/step - loss: 0.6263 - acc: 0.7641 - val_loss: 1.5044 - val_acc: 0.4004\n",
            "Epoch 20/25\n",
            "49/50 [============================>.] - ETA: 0s - loss: 0.6018 - acc: 0.7572Epoch 1/25\n",
            "50/50 [==============================] - 29s 573ms/step - loss: 0.6017 - acc: 0.7590 - val_loss: 1.0351 - val_acc: 0.6656\n",
            "Epoch 21/25\n",
            "49/50 [============================>.] - ETA: 0s - loss: 0.5341 - acc: 0.7939Epoch 1/25\n",
            "50/50 [==============================] - 26s 512ms/step - loss: 0.5323 - acc: 0.7950 - val_loss: 2.0271 - val_acc: 0.3849\n",
            "Epoch 22/25\n",
            "49/50 [============================>.] - ETA: 0s - loss: 0.5270 - acc: 0.7857Epoch 1/25\n",
            "50/50 [==============================] - 27s 543ms/step - loss: 0.5247 - acc: 0.7870 - val_loss: 1.0527 - val_acc: 0.6656\n",
            "Epoch 23/25\n",
            "49/50 [============================>.] - ETA: 0s - loss: 0.5245 - acc: 0.7910Epoch 1/25\n",
            "50/50 [==============================] - 26s 521ms/step - loss: 0.5322 - acc: 0.7882 - val_loss: 1.4773 - val_acc: 0.5103\n",
            "Epoch 24/25\n",
            "49/50 [============================>.] - ETA: 0s - loss: 0.4960 - acc: 0.8092Epoch 1/25\n",
            "50/50 [==============================] - 26s 519ms/step - loss: 0.4942 - acc: 0.8100 - val_loss: 1.7752 - val_acc: 0.5008\n",
            "Epoch 25/25\n",
            "49/50 [============================>.] - ETA: 0s - loss: 0.5019 - acc: 0.8053Epoch 1/25\n",
            "50/50 [==============================] - 26s 516ms/step - loss: 0.5049 - acc: 0.8042 - val_loss: 1.7856 - val_acc: 0.5136\n"
          ],
          "name": "stdout"
        }
      ]
    },
    {
      "cell_type": "code",
      "metadata": {
        "colab_type": "code",
        "id": "bnyRnwopT5aW",
        "outputId": "c1858e4d-4dbb-4f21-f0fd-dba08fda47a4",
        "colab": {
          "base_uri": "https://localhost:8080/",
          "height": 545
        }
      },
      "source": [
        "import matplotlib.pyplot as plt\n",
        "acc = history.history['acc']\n",
        "val_acc = history.history['val_acc']\n",
        "loss = history.history['loss']\n",
        "val_loss = history.history['val_loss']\n",
        "\n",
        "epochs = range(len(acc))\n",
        "\n",
        "plt.plot(epochs, acc, 'bo', label='Training accuracy')\n",
        "plt.plot(epochs, val_acc, 'b', label='Validation accuracy')\n",
        "plt.title('Training and validation accuracy')\n",
        "\n",
        "plt.figure()\n",
        "\n",
        "plt.plot(epochs, loss, 'bo', label='Training Loss')\n",
        "plt.plot(epochs, val_loss, 'b', label='Validation Loss')\n",
        "plt.title('Training and validation loss')\n",
        "plt.legend()\n",
        "\n",
        "plt.show()"
      ],
      "execution_count": 0,
      "outputs": [
        {
          "output_type": "display_data",
          "data": {
            "image/png": "[encoded data removed]",
            "text/plain": [
              "<Figure size 432x288 with 1 Axes>"
            ]
          },
          "metadata": {
            "tags": []
          }
        },
        {
          "output_type": "display_data",
          "data": {
            "image/png": "[encoded data removed]",
            "text/plain": [
              "<Figure size 432x288 with 1 Axes>"
            ]
          },
          "metadata": {
            "tags": []
          }
        }
      ]
    },
    {
      "cell_type": "code",
      "metadata": {
        "id": "yD7wIdyhjs1n",
        "colab_type": "code",
        "colab": {}
      },
      "source": [
        "import numpy as np\n",
        "from google.colab import files\n",
        "from keras.preprocessing import image\n",
        "\n",
        "uploaded = files.upload()\n",
        "\n",
        "for fn in uploaded.keys():\n",
        " \n",
        "  # predicting images\n",
        "  path = fn\n",
        "  img = image.load_img(path, target_size=(256,256))\n",
        "  x = image.img_to_array(img)\n",
        "  x = np.expand_dims(x, axis=0)\n",
        "\n",
        "  images = np.vstack([x])\n",
        "  classes = model.predict(images, batch_size=10)\n",
        "  print(fn)\n",
        " \n",
        "  print(classes)"
      ],
      "execution_count": 0,
      "outputs": []
    },
    {
      "cell_type": "markdown",
      "metadata": {
        "id": "tbMoQcKgL8jl",
        "colab_type": "text"
      },
      "source": [
        "#Conclusion\n",
        "\n",
        "To conclude, the model performed surprisingly well for outside photos, even though it had only about 50 percent accuracy. However, the main problem is real photos with complicated facial expressions. We tried to check photos of ourselves, but the model met difficulties trying to understand our emotions. This can be resolved in several ways:\n",
        "Increasing the number of classes(e.g. Recognized facial expressions)\n",
        "Using bigger dataset and using python directly instead of colab\n",
        "Using a training dataset with real photos\n",
        "Using datasets with a background or providing the model with the ability to get rid of background\n"
      ]
    },
    {
      "cell_type": "markdown",
      "metadata": {
        "id": "_vXXoRx6MN5G",
        "colab_type": "text"
      },
      "source": [
        "#References\n",
        "\n",
        "\n",
        "\n",
        "\n",
        "1.   Abhijeet Kumar.November 28, 2018  Computer Vision. \"*Demonstration of Facial Emotion Recognition on Real Time Video Using CNN : Python & Keras\"*Retrieved from\n",
        "https://appliedmachinelearning.blog/2018/11/28/demonstration-of-facial-emotion-recognition-on-real-time-video-using-cnn-python-keras/\n",
        "2.   Deepali Aneja, Alex Colburn, Gary Faigin, Linda G. Shapiro, Barbara Mones, \"Modeling Stylized Character Expressions via Deep Learning.\"\n",
        "Asian Conference on Computer Vision. Springer International Publishing, 2016.\n",
        "\n",
        "\n"
      ]
    }
  ]
}